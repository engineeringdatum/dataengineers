{
 "cells": [
  {
   "cell_type": "markdown",
   "metadata": {},
   "source": [
    "<br>\n",
    "<b><p style=\"color:Maroon;font-size:200%;text-align:center;\"> Kadane's Algorithm </p></b>\n",
    "<br>"
   ]
  },
  {
   "cell_type": "markdown",
   "metadata": {},
   "source": [
    "<p style=\"font-size:110%\"> Given an array arr of N integers. Find the contiguous sub-array with maximum sum.</p>\n",
    "\n",
    "<p style=\"font-size:110%\"><b>Input:</b>\n",
    "The first line of input contains an integer T denoting the number of test cases. The description of T test cases follows. The first line of each test case contains a single integer N denoting the size of array. The second line contains N space-separated integers A1, A2, ..., AN denoting the elements of the array.</p>\n",
    "\n",
    "<p style=\"font-size:110%\"><b>Output:</b>\n",
    "Print the maximum sum of the contiguous sub-array in a separate line for each test case.</p>\n",
    "<br>\n",
    "\n",
    "    \n",
    "<p style=\"font-size:110%\">GeeksForGeeks link: <a href=\"https://practice.geeksforgeeks.org/problems/kadanes-algorithm/0\">Link</a></p>\n"
   ]
  },
  {
   "cell_type": "markdown",
   "metadata": {},
   "source": [
    "<br>\n",
    "<b><p style=\"color:Gray;font-size:130%;text-align:center;\"> SOLUTION BODY </p></b>\n",
    "<br>"
   ]
  },
  {
   "cell_type": "code",
   "execution_count": 1,
   "metadata": {},
   "outputs": [],
   "source": [
    "def solution(nums):\n",
    "    \n",
    "        for i in range(1, len(nums)):\n",
    "            if nums[i - 1] > 0: \n",
    "                nums[i] += nums[i - 1]\n",
    "    \n",
    "        return max(nums)"
   ]
  },
  {
   "cell_type": "markdown",
   "metadata": {},
   "source": [
    "<p style=\"font-size:110%\"><b>Execution Time: </b>\n",
    "0.4 </p>\n",
    "<br>"
   ]
  },
  {
   "cell_type": "markdown",
   "metadata": {},
   "source": [
    "<br>\n",
    "<b><p style=\"color:Gray;font-size:130%;text-align:center;\"> INPUT BODY </p></b>\n",
    "<br>"
   ]
  },
  {
   "cell_type": "code",
   "execution_count": 2,
   "metadata": {},
   "outputs": [],
   "source": [
    "def inputList(n):\n",
    "    \n",
    "    while True:\n",
    "        print(f\"Enter space separated elements of size {n}\")\n",
    "        array = [int(num) for num in input().split()]\n",
    "        if len(array) == n:\n",
    "            break\n",
    "        else:\n",
    "            print(\"Entered value doesn't match with size N provided\")\n",
    "\n",
    "    return array"
   ]
  },
  {
   "cell_type": "markdown",
   "metadata": {},
   "source": [
    "<br>\n",
    "<b><p style=\"color:Gray;font-size:130%;text-align:center;\"> MAIN BODY </p></b>\n",
    "<br>"
   ]
  },
  {
   "cell_type": "code",
   "execution_count": 3,
   "metadata": {},
   "outputs": [],
   "source": [
    "def main():\n",
    "    while True:\n",
    "        try:\n",
    "            T = int(input(\"Enter integer T denoting the number of test cases: \"))\n",
    "            array = {}\n",
    "            \n",
    "            for num in range(T):\n",
    "                N = int(input(\"Enter integer N denoting size of array: \"))\n",
    "                array[num+1] = inputList(N)\n",
    "                print(\"\")            \n",
    "                sums = solution(array[num+1])\n",
    "                \n",
    "                print(f\"the maximum sum of the contiguous sub-array in {array[num+1]} is {sums}\\n\")\n",
    "            break\n",
    "        except Exception as e:\n",
    "            print(e)   "
   ]
  },
  {
   "cell_type": "code",
   "execution_count": 4,
   "metadata": {},
   "outputs": [
    {
     "name": "stdout",
     "output_type": "stream",
     "text": [
      "Enter integer T denoting the number of test cases: 2\n",
      "Enter integer N denoting size of array: 5\n",
      "Enter space separated elements of size 5\n",
      "1 2 3 -2 5\n",
      "\n",
      "the maximum sum of the contiguous sub-array in [1, 3, 6, 4, 9] is 9\n",
      "\n",
      "Enter integer N denoting size of array: 4\n",
      "Enter space separated elements of size 4\n",
      "-1 -2 -3 -4\n",
      "\n",
      "the maximum sum of the contiguous sub-array in [-1, -2, -3, -4] is -1\n",
      "\n"
     ]
    }
   ],
   "source": [
    "main()"
   ]
  },
  {
   "cell_type": "markdown",
   "metadata": {},
   "source": []
  }
 ],
 "metadata": {
  "kernelspec": {
   "display_name": "Python 3",
   "language": "python",
   "name": "python3"
  },
  "language_info": {
   "codemirror_mode": {
    "name": "ipython",
    "version": 3
   },
   "file_extension": ".py",
   "mimetype": "text/x-python",
   "name": "python",
   "nbconvert_exporter": "python",
   "pygments_lexer": "ipython3",
   "version": "3.8.5"
  }
 },
 "nbformat": 4,
 "nbformat_minor": 4
}
