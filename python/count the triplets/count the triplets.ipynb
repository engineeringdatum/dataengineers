{
 "cells": [
  {
   "cell_type": "markdown",
   "metadata": {},
   "source": [
    "<br>\n",
    "<b><p style=\"color:Maroon;font-size:200%;text-align:center;\"> Count the triplets </p></b>\n",
    "<br>"
   ]
  },
  {
   "cell_type": "markdown",
   "metadata": {},
   "source": [
    "<p style=\"font-size:110%\"> Given an array of distinct integers. The task is to count all the triplets such that sum of two elements equals the third element.</p>\n",
    "\n",
    "<p style=\"font-size:110%\"><b>Input:</b>\n",
    "The first line of input contains an integer T denoting the number of test cases. Then T test cases follow. Each test case consists of two lines. First line of each test case contains an Integer N denoting size of array and the second line contains N space separated elements.</p>\n",
    "\n",
    "<p style=\"font-size:110%\"><b>Output:</b>\n",
    "For each test case, print the count of all triplets, in new line. If no such triplets can form, print \"-1\".</p>\n",
    "<br>\n",
    "\n",
    "    \n",
    "<p style=\"font-size:110%\">GeeksForGeeks link: <a href=\"https://practice.geeksforgeeks.org/problems/count-the-triplets/0\">Link</a></p>\n"
   ]
  },
  {
   "cell_type": "markdown",
   "metadata": {},
   "source": [
    "<br>\n",
    "<b><p style=\"color:Gray;font-size:130%;text-align:center;\"> SOLUTION BODY </p></b>\n",
    "<br>"
   ]
  },
  {
   "cell_type": "code",
   "execution_count": 1,
   "metadata": {},
   "outputs": [],
   "source": [
    "def solution(array):\n",
    "    \n",
    "    triplets  = 0\n",
    "    range_len = len(array)\n",
    "\n",
    "    for i in range(range_len):\n",
    "        temp_arr = array[i+1::]\n",
    "        val = set(array)\n",
    "        \n",
    "        for j in temp_arr:\n",
    "            value = array[i] + j\n",
    "            if value in val:\n",
    "                triplets = triplets + 1\n",
    "            else:\n",
    "                pass\n",
    "    if triplets == 0:\n",
    "        return -1\n",
    "    else:\n",
    "        return triplets"
   ]
  },
  {
   "cell_type": "markdown",
   "metadata": {},
   "source": [
    "<p style=\"font-size:110%\"><b>Things added:</b>\n",
    "To check if triplet exists, I have used sets{} as it has O(1) lookup time..</p>\n",
    "<p style=\"font-size:110%\"><b>Execution Time: </b>\n",
    "0.71</p>\n",
    "<br>"
   ]
  },
  {
   "cell_type": "markdown",
   "metadata": {},
   "source": [
    "<br>\n",
    "<b><p style=\"color:Gray;font-size:130%;text-align:center;\"> INPUT BODY </p></b>\n",
    "<br>"
   ]
  },
  {
   "cell_type": "code",
   "execution_count": 2,
   "metadata": {},
   "outputs": [],
   "source": [
    "def inputList(n):\n",
    "    \n",
    "    while True:\n",
    "        print(f\"Enter space separated elements of size {n}\")\n",
    "        array = [int(num) for num in input().split()]\n",
    "        if len(array) == n:\n",
    "            break\n",
    "        else:\n",
    "            print(\"Entered value doesn't match with size N provided\")\n",
    "    \n",
    "    array.sort()\n",
    "    return array"
   ]
  },
  {
   "cell_type": "markdown",
   "metadata": {},
   "source": [
    "<br>\n",
    "<b><p style=\"color:Gray;font-size:130%;text-align:center;\"> MAIN BODY </p></b>\n",
    "<br>"
   ]
  },
  {
   "cell_type": "code",
   "execution_count": 3,
   "metadata": {},
   "outputs": [],
   "source": [
    "def main():\n",
    "    while True:\n",
    "        try:\n",
    "            T = int(input(\"Enter integer T denoting the number of test cases: \"))\n",
    "            array = {}\n",
    "            \n",
    "            for num in range(T):\n",
    "                N = int(input(\"Enter integer N denoting size of array: \"))\n",
    "                array[num+1] = inputList(N)\n",
    "                print(\"\")            \n",
    "                triplet = solution(array[num+1])\n",
    "                \n",
    "                print(f\"Number of triplets in {array[num+1]} is {triplet}\\n\")\n",
    "            break\n",
    "        except Exception as e:\n",
    "            print(e)   "
   ]
  },
  {
   "cell_type": "code",
   "execution_count": 4,
   "metadata": {},
   "outputs": [
    {
     "name": "stdout",
     "output_type": "stream",
     "text": [
      "Enter integer T denoting the number of test cases: 2\n",
      "Enter integer N denoting size of array: 4\n",
      "Enter space separated elements of size 4\n",
      "1 5 3 2\n",
      "\n",
      "Number of triplets in [1, 2, 3, 5] is 2\n",
      "\n",
      "Enter integer N denoting size of array: 3\n",
      "Enter space separated elements of size 3\n",
      "3 2 7\n",
      "\n",
      "Number of triplets in [2, 3, 7] is -1\n",
      "\n"
     ]
    }
   ],
   "source": [
    "main()"
   ]
  },
  {
   "cell_type": "markdown",
   "metadata": {},
   "source": []
  },
  {
   "cell_type": "code",
   "execution_count": null,
   "metadata": {},
   "outputs": [],
   "source": []
  },
  {
   "cell_type": "code",
   "execution_count": null,
   "metadata": {},
   "outputs": [],
   "source": []
  },
  {
   "cell_type": "code",
   "execution_count": null,
   "metadata": {},
   "outputs": [],
   "source": []
  }
 ],
 "metadata": {
  "kernelspec": {
   "display_name": "Python 3",
   "language": "python",
   "name": "python3"
  },
  "language_info": {
   "codemirror_mode": {
    "name": "ipython",
    "version": 3
   },
   "file_extension": ".py",
   "mimetype": "text/x-python",
   "name": "python",
   "nbconvert_exporter": "python",
   "pygments_lexer": "ipython3",
   "version": "3.8.5"
  }
 },
 "nbformat": 4,
 "nbformat_minor": 4
}
